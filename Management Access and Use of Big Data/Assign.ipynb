{
 "cells": [
  {
   "cell_type": "code",
   "execution_count": 1,
   "id": "6e33d827-2b02-4e93-b1cf-464bd007ad72",
   "metadata": {},
   "outputs": [],
   "source": [
    "from pyspark import SparkContext\n",
    "sc = SparkContext()"
   ]
  },
  {
   "cell_type": "code",
   "execution_count": 2,
   "id": "719f4408-2983-45e6-823c-a38bc1c00488",
   "metadata": {},
   "outputs": [],
   "source": [
    "logFile = \"file:///home/jovyan/seven_stairs_excerpt.txt\""
   ]
  },
  {
   "cell_type": "code",
   "execution_count": 3,
   "id": "37c76820-dae5-4149-8bf7-d47393e91e50",
   "metadata": {},
   "outputs": [],
   "source": [
    "logData = sc.textFile(logFile).cache()"
   ]
  },
  {
   "cell_type": "code",
   "execution_count": 4,
   "id": "c3f8f8f4-346e-4d8a-a095-60c33a3f38ac",
   "metadata": {},
   "outputs": [
    {
     "data": {
      "text/plain": [
       "114"
      ]
     },
     "execution_count": 4,
     "metadata": {},
     "output_type": "execute_result"
    }
   ],
   "source": [
    "logData.count()"
   ]
  },
  {
   "cell_type": "code",
   "execution_count": 5,
   "id": "5e8e7dbb-bd69-4954-b784-d825acbcb39b",
   "metadata": {},
   "outputs": [
    {
     "data": {
      "text/plain": [
       "'  1'"
      ]
     },
     "execution_count": 5,
     "metadata": {},
     "output_type": "execute_result"
    }
   ],
   "source": [
    "logData.first()"
   ]
  },
  {
   "cell_type": "code",
   "execution_count": 6,
   "id": "dcc99c9b-520f-4c09-9e95-068f2903f4e7",
   "metadata": {},
   "outputs": [
    {
     "name": "stdout",
     "output_type": "stream",
     "text": [
      "Lines with a: 88\n",
      "Lines with b: 58\n"
     ]
    }
   ],
   "source": [
    "numAs = logData.filter(lambda s: 'a' in s).count()\n",
    "numBs = logData.filter(lambda s: 'b' in s).count()\n",
    "\n",
    "print('Lines with a: %i' % numAs)\n",
    "print('Lines with b: %i' % numBs)\n"
   ]
  },
  {
   "cell_type": "code",
   "execution_count": 7,
   "id": "bb9737d8-ae76-42d2-889e-597adfcf093a",
   "metadata": {},
   "outputs": [],
   "source": [
    "wordCounts = logData.flatMap(lambda line: line.split()).map(lambda word: (word, 1)).reduceByKey(lambda a, b: a+b)"
   ]
  },
  {
   "cell_type": "code",
   "execution_count": 8,
   "id": "eee5bb94-7944-4c14-be7d-56faf9ec0487",
   "metadata": {},
   "outputs": [
    {
     "data": {
      "text/plain": [
       "[('Came', 1),\n",
       " ('I', 42),\n",
       " ('might', 1),\n",
       " ('as', 2),\n",
       " ('well', 1),\n",
       " ('you', 3),\n",
       " ('what', 2),\n",
       " ('this', 4),\n",
       " ('about.', 1),\n",
       " ('ago', 1),\n",
       " ('started', 1),\n",
       " ('to', 23),\n",
       " ('write', 1),\n",
       " ('memoir', 1),\n",
       " ('about', 6),\n",
       " ('dealer', 2),\n",
       " ('and', 27),\n",
       " ('how', 1),\n",
       " ('out.', 1),\n",
       " ('it', 6),\n",
       " ('up', 2),\n",
       " ('covered', 1),\n",
       " ('by', 3),\n",
       " ('_How', 1),\n",
       " ('Become', 1),\n",
       " ('Extinct_.', 1),\n",
       " ('Now', 1),\n",
       " ('so', 6),\n",
       " ('sure.', 1),\n",
       " ('still', 3),\n",
       " ('around', 1),\n",
       " ('us', 1),\n",
       " ('are', 1),\n",
       " ('withering', 1),\n",
       " ('me', 2),\n",
       " ('yet', 1),\n",
       " ('state', 1),\n",
       " ('of', 27),\n",
       " ('tragedy', 1),\n",
       " ('really', 1),\n",
       " ('believe', 1),\n",
       " ('Maybe', 1),\n",
       " ('just', 2),\n",
       " ('isn’t', 1),\n",
       " ('enough', 2),\n",
       " ('left', 2),\n",
       " ('with', 7),\n",
       " ('howl', 2),\n",
       " ('stricken', 1),\n",
       " ('trap.', 1),\n",
       " ('self-pity,', 1),\n",
       " ('but', 2),\n",
       " ('yap', 1),\n",
       " ('human', 1),\n",
       " ('spirit', 2),\n",
       " ('determined', 1),\n",
       " ('no', 7),\n",
       " ('matter', 1),\n",
       " ('what.', 1),\n",
       " ('yet,', 1),\n",
       " ('would', 1),\n",
       " ('submitting', 1),\n",
       " ('Let', 1),\n",
       " ('doubt', 1),\n",
       " ('for', 6),\n",
       " ('Candide.', 1),\n",
       " ('three', 2),\n",
       " ('dollars', 1),\n",
       " ('worth', 2),\n",
       " ('(barely', 1),\n",
       " ('five', 1),\n",
       " ('shelves),', 1),\n",
       " ('used', 1),\n",
       " ('old', 2),\n",
       " ('(left', 1),\n",
       " ('apartment', 1),\n",
       " ('army', 1),\n",
       " ('return),', 1),\n",
       " ('Stairs', 1),\n",
       " ('Book', 1),\n",
       " ('Shop', 1),\n",
       " ('Near', 1),\n",
       " ('North', 1),\n",
       " ('Side', 1),\n",
       " ('Chicago.', 1),\n",
       " ('shop', 2),\n",
       " ('brownstone,', 1),\n",
       " ('residences', 1),\n",
       " ('remaining', 1),\n",
       " ('fashionable', 2),\n",
       " ('townhouse', 1),\n",
       " ('district', 2),\n",
       " ('Fire,', 1),\n",
       " ('kind', 1),\n",
       " ('decline.', 1),\n",
       " ('short', 1),\n",
       " ('stairs', 1),\n",
       " ('an', 2),\n",
       " ('(I', 1),\n",
       " ('were', 6),\n",
       " ('reality', 1),\n",
       " ('short,', 1),\n",
       " ('door', 1),\n",
       " ('skeleton', 1),\n",
       " ('key', 1),\n",
       " ('before', 4),\n",
       " ('entering', 1),\n",
       " ('finally', 1),\n",
       " ('shop.', 1),\n",
       " ('It', 6),\n",
       " ('1946', 1),\n",
       " ('first', 3),\n",
       " ('barren', 1),\n",
       " ('sun', 1),\n",
       " ('day', 1),\n",
       " ('gasped', 1),\n",
       " ('gasping,', 1),\n",
       " ('wondering', 1),\n",
       " ('new', 1),\n",
       " ('end', 1),\n",
       " ('success', 1),\n",
       " ('nor', 2),\n",
       " ('failure', 1),\n",
       " ('summed', 1),\n",
       " ('fitted', 1),\n",
       " ('mood', 1),\n",
       " ('perfectly:', 1),\n",
       " ('holes', 1),\n",
       " ('plaster,', 1),\n",
       " ('ripped', 1),\n",
       " ('1890', 1),\n",
       " ('light', 1),\n",
       " ('fixture', 1),\n",
       " ('from', 2),\n",
       " ('wood-burning', 1),\n",
       " ('fireplace,', 1),\n",
       " ('general', 1),\n",
       " ('air', 1),\n",
       " ('lurking', 1),\n",
       " ('Long', 1),\n",
       " ('scene', 1),\n",
       " ('registered', 1),\n",
       " ('mind,', 1),\n",
       " ('saw', 5),\n",
       " ('everything', 1),\n",
       " ('could', 3),\n",
       " ('painted,', 1),\n",
       " ('right', 1),\n",
       " ('little', 2),\n",
       " ('room', 1),\n",
       " ('filled', 1),\n",
       " ('records,', 1),\n",
       " ('myself', 2),\n",
       " ('velvet', 2),\n",
       " ('behind', 1),\n",
       " ('desk,', 1),\n",
       " ('being', 1),\n",
       " ('everyone', 1),\n",
       " ('in.', 1),\n",
       " ('success,', 1),\n",
       " ('excitement,', 1),\n",
       " ('world', 2),\n",
       " ('music.', 2),\n",
       " ('going—beautiful', 1),\n",
       " ('women', 1),\n",
       " ('handsome', 1),\n",
       " ('good', 1),\n",
       " ('feeling,', 1),\n",
       " ('playing', 1),\n",
       " ('finding', 1),\n",
       " ('mantelpiece.', 1),\n",
       " ('built', 2),\n",
       " ('ceiling', 1),\n",
       " ('bought', 3),\n",
       " ('There', 2),\n",
       " ('buy', 2),\n",
       " ('early.', 1),\n",
       " ('closed', 1),\n",
       " ('me.', 2),\n",
       " ('same.', 1),\n",
       " ('bright,', 1),\n",
       " ('clean.', 1),\n",
       " ('many,', 1),\n",
       " ('they', 1),\n",
       " ('Still', 1),\n",
       " ('How', 1),\n",
       " ('getting', 1),\n",
       " ('books?', 1),\n",
       " ('didn’t', 1),\n",
       " ('know.', 1),\n",
       " ('teacher', 1),\n",
       " ('war.', 1),\n",
       " ('father', 1),\n",
       " ('business', 2),\n",
       " ('man', 1),\n",
       " ('either,', 1),\n",
       " ('his', 1),\n",
       " ('father.', 1),\n",
       " ('knew', 2),\n",
       " ('anything', 1),\n",
       " ('least.', 1),\n",
       " ('freshly', 1),\n",
       " ('will', 1),\n",
       " ('book!', 1),\n",
       " ('housekeeping.', 1),\n",
       " ('then,', 1),\n",
       " ('Phone', 1),\n",
       " ('friend', 2),\n",
       " ('relative', 1),\n",
       " ('read', 1),\n",
       " ('wouldn’t', 2),\n",
       " ('see', 1),\n",
       " ('call.', 1),\n",
       " ('afternoon', 1),\n",
       " ('happened.', 1),\n",
       " ('dreamed', 1),\n",
       " ('She', 3),\n",
       " ('apparently', 1),\n",
       " ('safe', 1),\n",
       " ('venture', 1),\n",
       " ('further.', 1),\n",
       " ('“Is', 1),\n",
       " ('come', 1),\n",
       " ('in,”', 1),\n",
       " ('“It’s', 1),\n",
       " ('solidly', 1),\n",
       " ('round', 1),\n",
       " ('heavy', 1),\n",
       " ('fat', 2),\n",
       " ('her', 2),\n",
       " ('white', 1),\n",
       " ('dress.', 1),\n",
       " ('Her', 1),\n",
       " ('sturdy,', 1),\n",
       " ('spread', 1),\n",
       " ('stance,', 1),\n",
       " ('“Do', 1),\n",
       " ('have', 1),\n",
       " ('_Peace', 2),\n",
       " ('daring', 1),\n",
       " ('customer.', 1),\n",
       " ('Everyone', 1),\n",
       " ('reading', 1),\n",
       " ('naturally', 1),\n",
       " ('But', 1),\n",
       " ('here', 2),\n",
       " ('capitulation,', 1),\n",
       " ('“if', 1),\n",
       " ('I’ll', 1),\n",
       " ('nodded.', 1),\n",
       " ('running', 1),\n",
       " ('door.', 1),\n",
       " ('sprinted', 1),\n",
       " ('blocks', 1),\n",
       " ('A.', 1),\n",
       " ('wholesaler', 1),\n",
       " ('whom', 1),\n",
       " ('dollars’', 1),\n",
       " ('books,', 1),\n",
       " ('single', 1),\n",
       " ('Then', 1),\n",
       " ('back', 1),\n",
       " ('$2.50.', 1),\n",
       " ('overwhelmed', 1),\n",
       " ('totally', 1),\n",
       " ('book.', 1),\n",
       " ('wrapping', 1),\n",
       " ('paper.', 1),\n",
       " ('cash', 1),\n",
       " ('even', 1),\n",
       " ('cigar', 1),\n",
       " ('box.', 1),\n",
       " ('highly', 1),\n",
       " ('accept', 1),\n",
       " ('then', 1),\n",
       " ('reach', 1),\n",
       " ('change.', 1),\n",
       " ('long', 1),\n",
       " ('fact,', 1),\n",
       " ('at', 1),\n",
       " ('all.', 1),\n",
       " ('found', 1),\n",
       " ('upsetting.', 1),\n",
       " ('1', 1),\n",
       " ('And', 4),\n",
       " ('Nobody', 1),\n",
       " ('tell', 1),\n",
       " ('book', 6),\n",
       " ('is', 2),\n",
       " ('Years', 1),\n",
       " ('a', 38),\n",
       " ('young', 2),\n",
       " ('fellow', 1),\n",
       " ('who', 4),\n",
       " ('wanted', 1),\n",
       " ('be', 5),\n",
       " ('he', 1),\n",
       " ('made', 1),\n",
       " ('tore', 1),\n",
       " ('when', 3),\n",
       " ('discovered', 1),\n",
       " ('the', 56),\n",
       " ('subject', 1),\n",
       " ('had', 9),\n",
       " ('already', 1),\n",
       " ('been', 2),\n",
       " ('humorist', 1),\n",
       " ('named', 1),\n",
       " ('Will', 1),\n",
       " ('Cuppy', 1),\n",
       " ('in', 17),\n",
       " ('called,', 1),\n",
       " ('I’m', 2),\n",
       " ('not', 3),\n",
       " ('my', 22),\n",
       " ('middle-aged', 1),\n",
       " ('obsolescence', 1),\n",
       " ('all', 7),\n",
       " ('on', 5),\n",
       " ('vine.', 1),\n",
       " ('Civilization', 1),\n",
       " ('may', 1),\n",
       " ('beat', 1),\n",
       " ('achieving', 1),\n",
       " ('dodo.', 1),\n",
       " ('The', 4),\n",
       " ('that', 6),\n",
       " ('few', 1),\n",
       " ('seem', 1),\n",
       " ('know', 1),\n",
       " ('or', 8),\n",
       " ('it.', 2),\n",
       " ('there', 7),\n",
       " ('innocence', 1),\n",
       " ('join', 1),\n",
       " ('upon', 3),\n",
       " ('barging', 1),\n",
       " ('into', 7),\n",
       " ('Not', 1),\n",
       " ('assert', 1),\n",
       " ('itself', 1),\n",
       " ('There’s', 1),\n",
       " ('some', 2),\n",
       " ('juice', 1),\n",
       " ('point', 1),\n",
       " ('following', 1),\n",
       " ('pages', 1),\n",
       " ('supporting', 1),\n",
       " ('evidence—hopefully,', 1),\n",
       " ('bitterly,', 1),\n",
       " ('both.', 1),\n",
       " ('original', 2),\n",
       " ('qualifications', 1),\n",
       " ('role', 1),\n",
       " ('With', 1),\n",
       " ('hundred', 2),\n",
       " ('books', 5),\n",
       " ('fill', 1),\n",
       " ('record', 1),\n",
       " ('player,', 1),\n",
       " ('recordings', 2),\n",
       " ('went', 1),\n",
       " ('opened', 2),\n",
       " ('Seven', 1),\n",
       " ('Record', 1),\n",
       " ('was', 16),\n",
       " ('located', 1),\n",
       " ('one', 3),\n",
       " ('converted', 1),\n",
       " ('Rush', 1),\n",
       " ('Street—a', 1),\n",
       " ('era', 1),\n",
       " ('after', 1),\n",
       " ('Great', 1),\n",
       " ('Chicago', 1),\n",
       " ('now', 1),\n",
       " ('which', 1),\n",
       " ('townhouses', 1),\n",
       " ('inevitably', 1),\n",
       " ('One', 3),\n",
       " ('climb', 1),\n",
       " ('flight', 1),\n",
       " ('above', 2),\n",
       " ('English', 1),\n",
       " ('basement', 1),\n",
       " ('thought', 1),\n",
       " ('seven', 1),\n",
       " ('steps—in', 1),\n",
       " ('eight),', 1),\n",
       " ('pass', 1),\n",
       " ('through', 2),\n",
       " ('dark', 1),\n",
       " ('hall,', 1),\n",
       " ('unlock', 1),\n",
       " ('dime', 1),\n",
       " ('store', 2),\n",
       " ('prospective', 1),\n",
       " ('mid-August', 1),\n",
       " ('stood', 3),\n",
       " ('room.', 1),\n",
       " ('beaten', 1),\n",
       " ('air;', 1),\n",
       " ('if', 1),\n",
       " ('beginning', 1),\n",
       " ('life', 1),\n",
       " ('hit-or-miss', 1),\n",
       " ('neither', 1),\n",
       " ('career', 2),\n",
       " ('moment.', 1),\n",
       " ('molding,', 1),\n",
       " ('hung', 1),\n",
       " ('blackened', 1),\n",
       " ('chains', 1),\n",
       " ('ceiling,', 1),\n",
       " ('worn', 1),\n",
       " ('floor,', 1),\n",
       " ('decay', 1),\n",
       " ('every', 1),\n",
       " ('corner.', 1),\n",
       " ('fully', 1),\n",
       " ('entered', 1),\n",
       " ('emotions.', 1),\n",
       " ('forgave', 1),\n",
       " ('everything.', 1),\n",
       " ('repaired,', 1),\n",
       " ('cleaned—set', 1),\n",
       " ('work.', 1),\n",
       " ('fire', 1),\n",
       " ('going,', 1),\n",
       " ('jacket,', 1),\n",
       " ('seated', 1),\n",
       " ('charming', 1),\n",
       " ('gracious', 1),\n",
       " ('came', 2),\n",
       " ('adventure,', 1),\n",
       " ('loved—the', 1),\n",
       " ('fine', 1),\n",
       " ('people', 3),\n",
       " ('coming', 1),\n",
       " ('men.', 1),\n",
       " ('surrounded', 1),\n",
       " ('warmth,', 1),\n",
       " ('friendship', 1),\n",
       " ('favorite', 2),\n",
       " ('day,', 1),\n",
       " ('telling', 1),\n",
       " ('stories,', 1),\n",
       " ('myself.', 2),\n",
       " ('ran', 2),\n",
       " ('fingers', 1),\n",
       " ('over', 2),\n",
       " ('“I', 2),\n",
       " ('want', 2),\n",
       " ('room,”', 1),\n",
       " ('said', 2),\n",
       " ('it.”', 1),\n",
       " ('shelves', 1),\n",
       " ('buy.', 1),\n",
       " ('money', 3),\n",
       " ('jacket.', 1),\n",
       " ('Every', 3),\n",
       " ('morning', 2),\n",
       " ('bright', 1),\n",
       " ('night', 2),\n",
       " ('very', 4),\n",
       " ('late.', 1),\n",
       " ('visit', 1),\n",
       " ('Morning,', 1),\n",
       " ('noon,', 1),\n",
       " ('alone', 1),\n",
       " ('Everything', 1),\n",
       " ('shiny,', 1),\n",
       " ('books!', 1),\n",
       " ('good!', 1),\n",
       " ('nobody', 1),\n",
       " ('came.', 1),\n",
       " ('do', 1),\n",
       " ('go', 1),\n",
       " ('My', 1),\n",
       " ('No', 1),\n",
       " ('family', 1),\n",
       " ('business.', 1),\n",
       " ('walked', 1),\n",
       " ('determined:', 1),\n",
       " ('today', 1),\n",
       " ('sell', 2),\n",
       " ('hurried', 1),\n",
       " ('do?', 1),\n",
       " ('relative.', 1),\n",
       " ('couldn’t', 1),\n",
       " ('think', 1),\n",
       " ('thin', 1),\n",
       " ('disguise', 1),\n",
       " ('casual', 1),\n",
       " ('greeting', 1),\n",
       " ('understand', 1),\n",
       " ('ulterior', 1),\n",
       " ('purpose', 1),\n",
       " ('late', 1),\n",
       " ('beautiful', 1),\n",
       " ('_came', 1),\n",
       " ('in_.', 1),\n",
       " ('threshold,', 1),\n",
       " ('debating', 1),\n",
       " ('whether', 1),\n",
       " ('bookstore?”', 1),\n",
       " ('she', 2),\n",
       " ('said.', 2),\n",
       " ('“Please', 1),\n",
       " ('bookshop.”', 1),\n",
       " ('face', 1),\n",
       " ('neck', 1),\n",
       " ('comfortably', 1),\n",
       " ('overlapping', 1),\n",
       " ('collar', 1),\n",
       " ('legs', 1),\n",
       " ('feet', 1),\n",
       " ('firm', 1),\n",
       " ('strong', 1),\n",
       " ('daring.', 1),\n",
       " ('copy', 2),\n",
       " ('Mind_?”', 1),\n",
       " ('rabbi’s', 1),\n",
       " ('summer—except', 1),\n",
       " ('bestseller;', 1),\n",
       " ('touch', 1),\n",
       " ('customer!', 1),\n",
       " ('“Lady,”', 1),\n",
       " ('said,', 1),\n",
       " ('opening', 1),\n",
       " ('note', 1),\n",
       " ('total', 1),\n",
       " ('you’ll', 1),\n",
       " ('wait', 1),\n",
       " ('moment,', 1),\n",
       " ('get', 2),\n",
       " ('you.”', 1),\n",
       " ('“Please,”', 1),\n",
       " ('added,', 1),\n",
       " ('out', 1),\n",
       " ('four', 1),\n",
       " ('C.', 1),\n",
       " ('McClurg’s,', 1),\n",
       " ('Mind_', 1),\n",
       " ('$1.62.', 1),\n",
       " ('complete', 1),\n",
       " ('sale', 1),\n",
       " ('realization', 1),\n",
       " ('unprepared', 1),\n",
       " ('bags', 1),\n",
       " ('register', 1),\n",
       " ('seemed', 1),\n",
       " ('improper', 1),\n",
       " ('pocket', 1),\n",
       " ('time,', 1),\n",
       " ('embarrassment', 1),\n",
       " ('taking', 1),\n",
       " ('anyone’s', 1)]"
      ]
     },
     "execution_count": 8,
     "metadata": {},
     "output_type": "execute_result"
    }
   ],
   "source": [
    "wordCounts.collect()"
   ]
  },
  {
   "cell_type": "code",
   "execution_count": 12,
   "id": "00eeca18-d57d-4262-adaa-307e563662fe",
   "metadata": {},
   "outputs": [],
   "source": [
    "book_file = \"file:///home/jovyan/wonderland.txt\"  "
   ]
  },
  {
   "cell_type": "code",
   "execution_count": 13,
   "id": "ff65897b-a7d4-4e52-937b-b9e1a356148e",
   "metadata": {},
   "outputs": [],
   "source": [
    "book_data = sc.textFile(book_file).cache()"
   ]
  },
  {
   "cell_type": "code",
   "execution_count": 14,
   "id": "ded05caa-386e-4b62-ba57-42f2d3b1517c",
   "metadata": {},
   "outputs": [
    {
     "name": "stdout",
     "output_type": "stream",
     "text": [
      "Total lines: 3757\n"
     ]
    }
   ],
   "source": [
    "print(\"Total lines:\", book_data.count())"
   ]
  },
  {
   "cell_type": "code",
   "execution_count": 15,
   "id": "2d31bb4f-8dcf-45fd-b362-d8e285eaeeac",
   "metadata": {},
   "outputs": [
    {
     "name": "stdout",
     "output_type": "stream",
     "text": [
      "First line: The Project Gutenberg eBook of Alice's Adventures in Wonderland\n"
     ]
    }
   ],
   "source": [
    "print(\"First line:\", book_data.first())"
   ]
  },
  {
   "cell_type": "code",
   "execution_count": 16,
   "id": "ad568780-4b6f-4986-aaab-e1f34efcfc40",
   "metadata": {},
   "outputs": [
    {
     "name": "stdout",
     "output_type": "stream",
     "text": [
      "First 5 lines: [\"The Project Gutenberg eBook of Alice's Adventures in Wonderland\", '    ', 'This ebook is for the use of anyone anywhere in the United States and', 'most other parts of the world at no cost and with almost no restrictions', 'whatsoever. You may copy it, give it away or re-use it under the terms']\n"
     ]
    }
   ],
   "source": [
    "print(\"First 5 lines:\", book_data.take(5))"
   ]
  },
  {
   "cell_type": "code",
   "execution_count": 17,
   "id": "48e551cf-f197-40d1-9a77-1ed234e8ba19",
   "metadata": {},
   "outputs": [
    {
     "name": "stdout",
     "output_type": "stream",
     "text": [
      "Sample lines: ['Gryphon answered, very nearly in the same words as before, “It’s all', 'in questions of eating and drinking.', 'last she stretched her arms round it as far as they would go, and broke', '', '[later editions continued as follows']\n"
     ]
    }
   ],
   "source": [
    "sample_lines = book_data.takeSample(withReplacement=False, num=5, seed=42)\n",
    "print(\"Sample lines:\", sample_lines)"
   ]
  },
  {
   "cell_type": "code",
   "execution_count": 18,
   "id": "d5694503-24af-48b0-a3dd-ca79bd2b5b3c",
   "metadata": {},
   "outputs": [
    {
     "name": "stdout",
     "output_type": "stream",
     "text": [
      "Total characters: 160160\n"
     ]
    }
   ],
   "source": [
    "total_chars = book_data.map(lambda line: len(line)).reduce(lambda a, b: a + b)\n",
    "print(\"Total characters:\", total_chars)"
   ]
  },
  {
   "cell_type": "code",
   "execution_count": 21,
   "id": "c2970951-a6e7-40bb-b8d5-7a2fc08abcb0",
   "metadata": {},
   "outputs": [
    {
     "name": "stdout",
     "output_type": "stream",
     "text": [
      "Word counts (sample): {'The': 106, 'Project': 79, 'Gutenberg': 22, 'eBook': 4, 'of': 604, \"Alice's\": 2, 'Adventures': 4, 'in': 406, 'Wonderland': 4, 'This': 18}\n"
     ]
    }
   ],
   "source": [
    "word_rdd = book_data.flatMap(lambda line: line.split())\n",
    "word_counts = word_rdd.countByValue()\n",
    "print(\"Word counts (sample):\", {k: word_counts[k] for k in list(word_counts)[:10]})"
   ]
  },
  {
   "cell_type": "code",
   "execution_count": 23,
   "id": "df027f97-162f-400d-89e0-5bf018abe658",
   "metadata": {},
   "outputs": [
    {
     "name": "stdout",
     "output_type": "stream",
     "text": [
      "Total characters: 160160\n",
      "Total lines: 3757\n"
     ]
    }
   ],
   "source": [
    "zero_value = (0, 0)\n",
    "seq_op = lambda acc, line: (acc[0] + len(line), acc[1] + 1)\n",
    "comb_op = lambda acc1, acc2: (acc1[0] + acc2[0], acc1[1] + acc2[1])\n",
    "total_chars, total_lines = book_data.aggregate(zero_value, seq_op, comb_op)\n",
    "print(\"Total characters:\", total_chars)\n",
    "print(\"Total lines:\", total_lines)"
   ]
  },
  {
   "cell_type": "code",
   "execution_count": 24,
   "id": "2ae2eeed-5f9d-445a-839c-448dcefeb3c7",
   "metadata": {},
   "outputs": [],
   "source": [
    "word_counts = book_data.flatMap(lambda line: line.split()) \\\n",
    "                       .map(lambda word: (word.lower(), 1)) \\\n",
    "                       .reduceByKey(lambda a, b: a + b)\n"
   ]
  },
  {
   "cell_type": "code",
   "execution_count": 25,
   "id": "f68ff31e-7147-4a9e-a251-6350e66cb47d",
   "metadata": {},
   "outputs": [],
   "source": [
    "# Define stopwords\n",
    "stopwords = set([\"the\", \"and\", \"to\", \"of\", \"a\", \"in\", \"that\", \"it\", \"is\", \"was\", \"for\", \"on\", \"with\", \"as\", \"by\"])\n",
    "\n",
    "# Filter out stopwords from the word count RDD\n",
    "filtered_word_counts = word_counts.filter(lambda x: x[0] not in stopwords)\n"
   ]
  },
  {
   "cell_type": "code",
   "execution_count": 26,
   "id": "b3d43e10-360b-4b34-a511-b20020728592",
   "metadata": {},
   "outputs": [
    {
     "name": "stdout",
     "output_type": "stream",
     "text": [
      "she: 518\n",
      "said: 420\n",
      "you: 330\n",
      "i: 249\n",
      "alice: 221\n",
      "at: 217\n",
      "her: 207\n",
      "had: 176\n",
      "all: 171\n",
      "be: 155\n"
     ]
    }
   ],
   "source": [
    "# Get the top 10 most frequent words\n",
    "top_words = filtered_word_counts.takeOrdered(10, key=lambda x: -x[1])\n",
    "for word, count in top_words:\n",
    "    print(f\"{word}: {count}\")\n"
   ]
  },
  {
   "cell_type": "code",
   "execution_count": 27,
   "id": "9b3a8243-aec3-4a5c-b3ee-5a764491a19d",
   "metadata": {},
   "outputs": [
    {
     "data": {
      "image/png": "[encoded data removed]",
      "text/plain": [
       "<Figure size 640x480 with 1 Axes>"
      ]
     },
     "metadata": {},
     "output_type": "display_data"
    }
   ],
   "source": [
    "import pandas as pd\n",
    "import matplotlib.pyplot as plt\n",
    "\n",
    "# Convert to a DataFrame for visualization\n",
    "df = pd.DataFrame(top_words, columns=[\"Word\", \"Count\"])\n",
    "\n",
    "# Plot the top 10 words\n",
    "df.plot(kind='bar', x='Word', y='Count', legend=False)\n",
    "plt.title(\"Top 10 Words in Alice's Adventures in Wonderland\")\n",
    "plt.show()"
   ]
  },
  {
   "cell_type": "code",
   "execution_count": 28,
   "id": "b8d92e08-6311-453a-b9b4-ecac5a147207",
   "metadata": {},
   "outputs": [
    {
     "name": "stdout",
     "output_type": "stream",
     "text": [
      "Data exported to word_frequencies.csv\n"
     ]
    }
   ],
   "source": [
    "import pandas as pd\n",
    "\n",
    "# Convert the RDD (e.g., filtered_word_counts) to a DataFrame\n",
    "top_words = filtered_word_counts.takeOrdered(100, key=lambda x: -x[1])  # Top 100 words\n",
    "df = pd.DataFrame(top_words, columns=['Word', 'Frequency'])\n",
    "\n",
    "# Export to CSV\n",
    "df.to_csv('word_frequencies.csv', index=False)\n",
    "print(\"Data exported to word_frequencies.csv\")\n"
   ]
  },
  {
   "cell_type": "code",
   "execution_count": 33,
   "id": "8d26ee86-1d8d-47a5-a1b3-bb54b4a7e3ad",
   "metadata": {},
   "outputs": [
    {
     "data": {
      "image/png": "[encoded data removed]",
      "text/plain": [
       "<Figure size 1200x800 with 1 Axes>"
      ]
     },
     "metadata": {},
     "output_type": "display_data"
    }
   ],
   "source": [
    "import seaborn as sns\n",
    "import matplotlib.pyplot as plt\n",
    "\n",
    "# Limit to the top 20 words for clarity\n",
    "top_20_words = df.head(20)\n",
    "\n",
    "# Create a larger figure and plot\n",
    "plt.figure(figsize=(12, 8))\n",
    "sns.barplot(x='Word', y='Frequency', data=top_20_words, palette='viridis', hue='Word', dodge=False)\n",
    "plt.xlabel('Word', fontsize=14)\n",
    "plt.ylabel('Frequency', fontsize=14)\n",
    "plt.title(\"Top 20 Most Frequent Words in Alice's Adventures in Wonderland\", fontsize=16)\n",
    "plt.xticks(rotation=45, ha='right', fontsize=12)\n",
    "plt.yticks(fontsize=12)\n",
    "plt.grid(axis='y', linestyle='--', alpha=0.7)\n",
    "plt.legend([], [], frameon=False) \n",
    "plt.tight_layout() \n",
    "plt.show()"
   ]
  },
  {
   "cell_type": "code",
   "execution_count": 63,
   "id": "6aabb27c-38df-449e-b7b2-f8c3a4622558",
   "metadata": {},
   "outputs": [
    {
     "data": {
      "image/png": "[encoded data removed]",
      "text/plain": [
       "<Figure size 1000x500 with 1 Axes>"
      ]
     },
     "metadata": {},
     "output_type": "display_data"
    }
   ],
   "source": [
    "word_frequencies = [count for word, count in filtered_word_counts.collect()]\n",
    "plt.figure(figsize=(10, 5))\n",
    "sns.histplot(word_frequencies, bins=50, kde=True, color='skyblue')\n",
    "plt.xlim(0, 30)  # Apply logarithmic scale for better distribution visualization\n",
    "plt.title('Word Frequency Distribution (Log Scale)')\n",
    "plt.xlabel('Frequency (Log Scale)')\n",
    "plt.ylabel('Count')\n",
    "plt.show()\n"
   ]
  },
  {
   "cell_type": "code",
   "execution_count": 57,
   "id": "5a653ed6-6601-4dce-8d20-d9cfe240807f",
   "metadata": {},
   "outputs": [
    {
     "data": {
      "image/png": "[encoded data removed]",
      "text/plain": [
       "<Figure size 640x480 with 1 Axes>"
      ]
     },
     "metadata": {},
     "output_type": "display_data"
    }
   ],
   "source": [
    "# Assuming you've split the text into sections and have word counts for each section\n",
    "# Here's a hypothetical approach if you have word frequencies by chapter in a DataFrame\n",
    "\n",
    "import numpy as np\n",
    "sections = ['Chapter 1', 'Chapter 2', 'Chapter 3', 'Chapter 4', 'Chapter 5']\n",
    "section_word_counts = {'adventure': np.random.randint(5, 20, len(sections)), \n",
    "                       'curiosity': np.random.randint(5, 15, len(sections))}\n",
    "trends_df = pd.DataFrame(section_word_counts, index=sections)\n",
    "\n",
    "trends_df.plot(marker='o')\n",
    "plt.title('Frequency of Key Words by Section')\n",
    "plt.xlabel('Section')\n",
    "plt.ylabel('Frequency')\n",
    "plt.show()\n"
   ]
  }
 ],
 "metadata": {
  "kernelspec": {
   "display_name": "Python 3 (ipykernel)",
   "language": "python",
   "name": "python3"
  },
  "language_info": {
   "codemirror_mode": {
    "name": "ipython",
    "version": 3
   },
   "file_extension": ".py",
   "mimetype": "text/x-python",
   "name": "python",
   "nbconvert_exporter": "python",
   "pygments_lexer": "ipython3",
   "version": "3.11.6"
  }
 },
 "nbformat": 4,
 "nbformat_minor": 5
}
