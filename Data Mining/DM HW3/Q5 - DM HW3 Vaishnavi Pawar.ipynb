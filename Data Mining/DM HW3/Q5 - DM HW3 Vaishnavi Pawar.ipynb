{
 "cells": [
  {
   "cell_type": "code",
   "execution_count": 77,
   "metadata": {},
   "outputs": [],
   "source": [
    "import numpy as np"
   ]
  },
  {
   "cell_type": "code",
   "execution_count": 78,
   "metadata": {},
   "outputs": [],
   "source": [
    "def read_the_edges(file_edge):\n",
    "    edges = []\n",
    "    with open(file_edge, 'r') as newfile:\n",
    "        for line in newfile:\n",
    "            source, target = line.strip().split()\n",
    "            edges.append((source, target))\n",
    "    return edges"
   ]
  },
  {
   "cell_type": "code",
   "execution_count": 79,
   "metadata": {},
   "outputs": [
    {
     "name": "stdout",
     "output_type": "stream",
     "text": [
      "Transition Matrix:\n",
      "[[0. 1. 0. 0. 0. 1. 0.]\n",
      " [1. 0. 0. 0. 0. 0. 0.]\n",
      " [0. 1. 0. 0. 1. 1. 0.]\n",
      " [0. 1. 0. 0. 0. 0. 1.]\n",
      " [1. 0. 0. 1. 0. 0. 0.]\n",
      " [0. 1. 0. 1. 1. 0. 0.]\n",
      " [0. 0. 0. 0. 0. 0. 0.]]\n"
     ]
    }
   ],
   "source": [
    "def create_TransitionMatrix(edges):\n",
    "    nodes = sorted(set(node for edge in edges for node in edge))     \n",
    "    total_nodes = len(nodes)\n",
    "    transition_matrix = np.zeros((total_nodes, total_nodes))\n",
    "    \n",
    "    node_index = {node: i for i, node in enumerate(nodes)}\n",
    "    \n",
    "    for edge in edges:\n",
    "        startnode = node_index[edge[0]]\n",
    "        endnode = node_index[edge[1]]\n",
    "        transition_matrix[endnode, startnode] = 1\n",
    "    \n",
    "    return transition_matrix\n",
    "\n",
    "input_file = \"LinkAnalysis_edgelist.txt\" \n",
    "\n",
    "edges = read_the_edges(input_file)\n",
    "transition_matrix = create_TransitionMatrix(edges)\n",
    "\n",
    "print(\"Transition Matrix:\")\n",
    "print(transition_matrix)\n"
   ]
  },
  {
   "cell_type": "code",
   "execution_count": 80,
   "metadata": {},
   "outputs": [
    {
     "name": "stdout",
     "output_type": "stream",
     "text": [
      "\n",
      "Page Ranks:\n",
      "Node 0: Rank = 0.187526\n",
      "Node 1: Rank = 0.112540\n",
      "Node 2: Rank = 0.279389\n",
      "Node 3: Rank = 0.067539\n",
      "Node 4: Rank = 0.153072\n",
      "Node 5: Rank = 0.199934\n",
      "Node 6: Rank = 0.000000\n"
     ]
    }
   ],
   "source": [
    "def using_power_iteration(transition_matrix, total_iterations=100, damping_factor=0.85):\n",
    "    total_nodes = transition_matrix.shape[0]\n",
    "    rank_vector = np.ones(total_nodes) / total_nodes\n",
    "    \n",
    "    for _ in range(total_iterations):\n",
    "        new_rv = np.dot(transition_matrix, rank_vector)\n",
    "        new_rv = damping_factor * new_rv + (1 - damping_factor) / total_nodes\n",
    "        if np.allclose(new_rv, rank_vector, atol=1e-6):\n",
    "            break\n",
    "        rank_vector = new_rv\n",
    "    rank_vector /= np.sum(rank_vector)\n",
    "    \n",
    "    return rank_vector\n",
    "\n",
    "page_ranks = using_power_iteration(transition_matrix)\n",
    "\n",
    "\n",
    "print(\"\\nPage Ranks:\")\n",
    "for node, rank in enumerate(page_ranks):\n",
    "    print(f\"Node {node}: Rank = {rank:.6f}\")\n",
    "    "
   ]
  },
  {
   "cell_type": "code",
   "execution_count": 81,
   "metadata": {},
   "outputs": [],
   "source": [
    "def write_outputfile(node_rankings, output_file):\n",
    "    with open(output_file, 'w') as file:\n",
    "        for node, rank in enumerate(node_rankings):\n",
    "            file.write(f\"Node {node}: Rank = {rank:.6f}\\n\")\n"
   ]
  },
  {
   "cell_type": "code",
   "execution_count": 82,
   "metadata": {},
   "outputs": [
    {
     "name": "stdout",
     "output_type": "stream",
     "text": [
      "Node 2: Rank = 0.279389\n",
      "Node 5: Rank = 0.199934\n",
      "Node 0: Rank = 0.187526\n",
      "Node 4: Rank = 0.153072\n",
      "Node 1: Rank = 0.112540\n",
      "Node 3: Rank = 0.067539\n",
      "Node 6: Rank = 0.000000\n"
     ]
    }
   ],
   "source": [
    "input_file = \"LinkAnalysis_edgelist.txt\" \n",
    "output_file = \"outputfile_5b.txt\"  \n",
    "node_rankings = using_power_iteration(transition_matrix)\n",
    "write_outputfile(node_rankings, output_file)\n",
    "\n",
    "sorted_indices = np.argsort(node_rankings)[::-1]\n",
    "\n",
    "with open(output_file, 'w') as file:\n",
    "    for i in sorted_indices:\n",
    "        file.write(f\"Node {i}: Rank = {node_rankings[i]:.6f}\\n\")\n",
    "\n",
    "for i in sorted_indices:\n",
    "    print(f\"Node {i}: Rank = {node_rankings[i]:.6f}\")\n"
   ]
  }
 ],
 "metadata": {
  "kernelspec": {
   "display_name": "base",
   "language": "python",
   "name": "python3"
  },
  "language_info": {
   "codemirror_mode": {
    "name": "ipython",
    "version": 3
   },
   "file_extension": ".py",
   "mimetype": "text/x-python",
   "name": "python",
   "nbconvert_exporter": "python",
   "pygments_lexer": "ipython3",
   "version": "3.8.5"
  }
 },
 "nbformat": 4,
 "nbformat_minor": 2
}
